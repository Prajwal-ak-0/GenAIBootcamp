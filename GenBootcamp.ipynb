{
  "nbformat": 4,
  "nbformat_minor": 0,
  "metadata": {
    "colab": {
      "provenance": [],
      "gpuType": "T4",
      "mount_file_id": "1M8mPIVs0xUtcYu_3ZFQRmHrDYVqlA4Cb",
      "authorship_tag": "ABX9TyP6hGlnphf3xs90Mdp8ZT91",
      "include_colab_link": true
    },
    "kernelspec": {
      "name": "python3",
      "display_name": "Python 3"
    },
    "language_info": {
      "name": "python"
    },
    "accelerator": "GPU"
  },
  "cells": [
    {
      "cell_type": "markdown",
      "metadata": {
        "id": "view-in-github",
        "colab_type": "text"
      },
      "source": [
        "<a href=\"https://colab.research.google.com/github/Prajwal-ak-0/GenAIBootcamp/blob/main/GenBootcamp.ipynb\" target=\"_parent\"><img src=\"https://colab.research.google.com/assets/colab-badge.svg\" alt=\"Open In Colab\"/></a>"
      ]
    },
    {
      "cell_type": "markdown",
      "source": [
        "# Introduction to `Fasttext` and `gensim` library"
      ],
      "metadata": {
        "id": "V_tJARuC7_Nn"
      }
    },
    {
      "cell_type": "code",
      "execution_count": 1,
      "metadata": {
        "id": "tyXtbg_4DnsV"
      },
      "outputs": [],
      "source": [
        "from gensim.models import KeyedVectors\n",
        "\n",
        "# Load the word embeddings\n",
        "word_vectors = KeyedVectors.load_word2vec_format('/content/drive/MyDrive/wiki-news-300d-1M.vec')"
      ]
    },
    {
      "cell_type": "code",
      "source": [
        "# Get the vector corresponding to a word\n",
        "vector = word_vectors['beautiful']\n",
        "print(\"Word Vector for 'beautiful':\", vector)\n"
      ],
      "metadata": {
        "colab": {
          "base_uri": "https://localhost:8080/"
        },
        "id": "Qco3p2lQoIYn",
        "outputId": "66035538-7aaf-4013-f44f-ffb488d10caf"
      },
      "execution_count": 15,
      "outputs": [
        {
          "output_type": "stream",
          "name": "stdout",
          "text": [
            "Word Vector for 'beautiful': [ 7.470e-02 -1.296e-01 -1.280e-02 -7.950e-02 -3.080e-02  3.100e-02\n",
            " -8.310e-02  1.055e-01 -1.157e-01  1.269e-01 -2.230e-02 -6.670e-02\n",
            "  2.100e-03 -1.243e-01  8.000e-02  6.680e-02  9.140e-02 -7.920e-02\n",
            "  1.080e-02 -1.228e-01 -5.720e-02  4.320e-02  5.340e-02  1.008e-01\n",
            " -3.380e-02  5.280e-02 -6.140e-02 -1.515e-01  6.200e-03 -2.870e-02\n",
            " -1.080e-02  2.700e-02  8.790e-02 -2.230e-02  2.610e-02 -6.160e-02\n",
            " -7.820e-02 -4.470e-02 -8.000e-03  2.000e-04  1.244e-01 -4.180e-02\n",
            " -2.930e-02 -1.095e-01 -6.000e-04 -2.820e-02  1.260e-02 -1.180e-01\n",
            " -1.065e-01 -4.910e-02 -3.510e-02 -4.680e-02 -7.274e-01  6.710e-02\n",
            " -5.510e-02 -9.840e-02 -1.490e-01  8.370e-02 -3.700e-03  6.160e-02\n",
            "  1.501e-01 -1.293e-01  4.070e-02 -3.700e-02 -3.660e-02 -1.323e-01\n",
            "  1.422e-01  9.900e-02  6.340e-02 -2.420e-02  8.870e-02  6.560e-02\n",
            " -5.830e-02  4.280e-02 -2.440e-02 -4.710e-02 -1.950e-02 -3.720e-02\n",
            " -5.220e-02 -1.610e-02  3.480e-02  3.960e-02 -8.730e-02 -1.649e-01\n",
            " -6.670e-02  2.210e-02  3.370e-02 -4.770e-02  1.406e-01 -8.200e-02\n",
            "  2.980e-02  8.780e-02  3.210e-02 -1.230e-02  4.400e-03 -5.650e-02\n",
            " -1.010e-02  7.030e-02  1.248e-01  1.216e-01 -2.025e-01  4.870e-02\n",
            "  2.700e-02  3.210e-02 -1.660e-02  1.520e-02  1.958e-01  1.684e-01\n",
            "  1.531e-01 -1.678e-01  1.750e-01 -2.399e-01  1.120e-02 -1.730e-01\n",
            " -9.320e-02 -1.473e-01  2.090e-02 -1.666e-01 -8.250e-02 -2.654e-01\n",
            " -1.104e-01  2.540e-02  1.287e-01  4.000e-02 -1.483e-01  2.281e-01\n",
            "  3.100e-02  1.860e-02 -1.871e-01  1.840e-02  3.920e-02  2.326e-01\n",
            " -1.300e-03 -2.360e-02 -2.550e-02 -2.624e-01 -7.550e-02  1.805e-01\n",
            " -3.300e-02  6.910e-02  1.017e-01  5.390e-02 -4.670e-02  1.806e-01\n",
            " -3.470e-02 -9.440e-02  1.532e-01 -2.750e-02 -3.590e-02 -9.600e-02\n",
            " -2.565e-01 -5.140e-02 -4.690e-02 -2.920e-02 -3.500e-02  9.570e-02\n",
            "  3.620e-02 -5.500e-02 -6.300e-03  8.590e-02  2.200e-03  8.430e-02\n",
            "  2.043e-01  1.025e-01  2.060e-01  1.010e-01  1.017e-01 -1.570e-02\n",
            "  9.100e-02 -1.041e-01  1.515e-01  1.960e-02 -8.770e-02  1.205e-01\n",
            "  2.165e-01 -7.080e-02  2.622e-01  7.000e-03 -1.030e-01  7.910e-02\n",
            " -1.125e-01  3.290e-02 -7.900e-03  9.960e-02  6.610e-02  1.847e-01\n",
            "  3.700e-03  7.500e-03  9.470e-02  6.040e-02 -3.510e-02 -1.168e-01\n",
            " -5.020e-02  8.290e-02  1.108e-01  7.240e-02 -9.060e-02 -2.960e-02\n",
            "  9.460e-02  3.500e-03  8.300e-03 -1.867e-01 -2.300e-03  4.600e-03\n",
            "  1.600e-03  1.540e-02 -1.736e-01 -1.500e-01 -8.760e-02  1.542e-01\n",
            "  7.260e-02 -1.162e-01 -3.590e-02 -2.900e-02 -2.920e-02  2.470e-02\n",
            " -7.790e-02 -1.005e-01 -1.120e-01  2.263e-01  9.020e-02  7.750e-02\n",
            " -3.000e-03  4.940e-02  8.670e-02 -1.003e-01  9.400e-02 -2.420e-02\n",
            "  1.000e-02 -1.715e-01 -5.700e-02  2.400e-02  2.512e-01 -1.032e-01\n",
            " -4.470e-02  5.360e-02 -3.400e-03 -8.430e-02 -2.124e-01  8.230e-02\n",
            " -1.078e-01  5.280e-02  3.130e-02 -6.300e-02  8.400e-03 -6.400e-02\n",
            " -5.000e-03  1.787e-01 -1.735e-01  3.950e-01  2.058e-01  1.865e-01\n",
            "  1.892e-01 -1.746e-01  9.980e-02 -1.203e-01 -3.680e-02  9.120e-02\n",
            " -2.160e-02 -2.550e-02 -7.680e-02  2.470e-02 -2.620e-02 -2.240e-02\n",
            " -1.308e-01  5.680e-02  5.460e-02 -7.140e-02 -1.583e-01  5.090e-02\n",
            " -2.130e-02 -3.160e-02  4.430e-02  8.150e-02  5.980e-02  8.510e-02\n",
            "  7.130e-02 -5.950e-02  8.450e-02  6.150e-02  3.070e-02 -1.420e-02\n",
            " -7.760e-02  5.020e-02  1.199e-01  1.032e-01 -4.380e-02 -1.943e-01\n",
            " -1.716e-01  1.050e-02  9.600e-02  8.590e-02 -1.709e-01  1.206e-01\n",
            "  2.170e-01  1.300e-01 -7.190e-02  1.294e-01  1.228e-01  1.110e-02]\n"
          ]
        }
      ]
    },
    {
      "cell_type": "code",
      "source": [
        "# Finding the similar words\n",
        "similar_words = word_vectors.similar_by_word(\"beautiful\", topn=5)\n",
        "print(\"\\nTop 5 words similar to 'beautiful':\", similar_words)"
      ],
      "metadata": {
        "colab": {
          "base_uri": "https://localhost:8080/"
        },
        "id": "jLIL9oTPr3CX",
        "outputId": "3dcc7a4b-43da-482f-a154-9b859c621e76"
      },
      "execution_count": 16,
      "outputs": [
        {
          "output_type": "stream",
          "name": "stdout",
          "text": [
            "\n",
            "Top 5 words similar to 'beautiful': [('gorgeous', 0.8433856964111328), ('lovely', 0.8281809687614441), ('charming', 0.7809241414070129), ('magnificent', 0.7750603556632996), ('wonderful', 0.753922164440155)]\n"
          ]
        }
      ]
    },
    {
      "cell_type": "code",
      "source": [
        "# Finding the odd one out\n",
        "odd_one_out = word_vectors.doesnt_match([\"wicket\", \"bat\", \"ball\", \"stumps\", \"lunch\"])\n",
        "print(\"\\nWord that doesn't match:\", odd_one_out)"
      ],
      "metadata": {
        "colab": {
          "base_uri": "https://localhost:8080/"
        },
        "id": "8L8a9rMnv8e8",
        "outputId": "469f5030-f71e-449a-eb5b-e0e7c2e40e2a"
      },
      "execution_count": 17,
      "outputs": [
        {
          "output_type": "stream",
          "name": "stdout",
          "text": [
            "\n",
            "Word that doesn't match: lunch\n"
          ]
        }
      ]
    },
    {
      "cell_type": "code",
      "source": [
        "# Calculating the similarity between words\n",
        "similarity = word_vectors.similarity('woman', 'man')\n",
        "print(\"\\nSimilarity between 'night watchman' and 'man':\", similarity)"
      ],
      "metadata": {
        "colab": {
          "base_uri": "https://localhost:8080/"
        },
        "id": "iqNOMUW1w0a-",
        "outputId": "5d97e935-a022-4e98-ea1c-9c44e6353d79"
      },
      "execution_count": 21,
      "outputs": [
        {
          "output_type": "stream",
          "name": "stdout",
          "text": [
            "\n",
            "Similarity between 'night watchman' and 'man': 0.81645226\n"
          ]
        }
      ]
    },
    {
      "cell_type": "code",
      "source": [
        "# Resulting word from the the combination\n",
        "\n",
        "resulting_word = word_vectors.most_similar(positive=['woman', 'king'], negative=['man'], topn=3)\n",
        "print(\"\\nResulting word 'woman' : 'man' :: 'king' :: ? :\", resulting_word)"
      ],
      "metadata": {
        "colab": {
          "base_uri": "https://localhost:8080/"
        },
        "id": "52FJONh_xI4t",
        "outputId": "ee8402d7-5c70-455b-ac60-53d69045abd7"
      },
      "execution_count": 23,
      "outputs": [
        {
          "output_type": "stream",
          "name": "stdout",
          "text": [
            "\n",
            "Resulting word 'woman' : 'man' :: 'king' :: ? : [('queen', 0.751591145992279), ('monarch', 0.6741327047348022), ('princess', 0.6713886857032776)]\n"
          ]
        }
      ]
    },
    {
      "cell_type": "code",
      "source": [
        "# Check if a word is in the vocabulary\n",
        "word = 'tennis'\n",
        "if word in word_vectors:\n",
        "    print(f\"\\n'{word}' is in the vocabulary.\")\n",
        "else:\n",
        "    print(f\"\\n'{word}' is not in the vocabulary.\")"
      ],
      "metadata": {
        "colab": {
          "base_uri": "https://localhost:8080/"
        },
        "id": "7NZSXPsMyqFH",
        "outputId": "efc21370-6e90-4422-a3a4-340e1f77c3a8"
      },
      "execution_count": 35,
      "outputs": [
        {
          "output_type": "stream",
          "name": "stdout",
          "text": [
            "\n",
            "'tennis' is in the vocabulary.\n"
          ]
        }
      ]
    },
    {
      "cell_type": "code",
      "source": [
        "import matplotlib.pyplot as plt\n",
        "from sklearn.decomposition import PCA\n",
        "from mpl_toolkits.mplot3d import Axes3D\n",
        "\n",
        "words = ['king', 'queen', 'man', 'woman', 'apple', 'orange', 'mango', 'grape', 'cricket', 'football', 'tennis']\n",
        "\n",
        "word_vecs = []\n",
        "\n",
        "for word in words:\n",
        "  word_vector = word_vectors[word]\n",
        "  word_vecs.append(word_vector)\n",
        "\n",
        "pca = PCA(n_components=3)\n",
        "result = pca.fit_transform(word_vecs)\n",
        "\n",
        "fig = plt.figure(figsize=(6, 6))\n",
        "ax = fig.add_subplot(projection='3d')\n",
        "ax.scatter(result[:, 0], result[:, 1], result[:, 2])\n",
        "\n",
        "for i, word in enumerate(words):\n",
        "    ax.text(result[i, 0], result[i, 1], result[i, 2], word)\n",
        "\n",
        "ax.set_xlabel('PCA Component 1')\n",
        "ax.set_ylabel('PCA Component 2')\n",
        "ax.set_zlabel('PCA Component 3')\n",
        "plt.show()"
      ],
      "metadata": {
        "colab": {
          "base_uri": "https://localhost:8080/",
          "height": 504
        },
        "id": "KhFr_tuiyyPe",
        "outputId": "902da5ec-a88d-423d-e2c2-5e139e94faf6"
      },
      "execution_count": 40,
      "outputs": [
        {
          "output_type": "display_data",
          "data": {
            "text/plain": [
              "<Figure size 600x600 with 1 Axes>"
            ],
            "image/png": "[encoded data removed]"
          },
          "metadata": {}
        }
      ]
    },
    {
      "cell_type": "code",
      "source": [
        "from sklearn.cluster import KMeans\n",
        "import numpy as np\n",
        "\n",
        "# List of words to cluster\n",
        "words = ['king', 'queen', 'man', 'woman', 'apple', 'orange', 'breakfast', 'dinner']\n",
        "word_vecs = [word_vectors[word] for word in words]\n",
        "\n",
        "# Perform K-means clustering\n",
        "kmeans = KMeans(n_clusters=2, random_state=0).fit(word_vecs)\n",
        "labels = kmeans.labels_\n",
        "\n",
        "# Print the clusters\n",
        "cluster_1 = [words[i] for i in range(len(words)) if labels[i] == 0]\n",
        "cluster_2 = [words[i] for i in range(len(words)) if labels[i] == 1]\n",
        "print(\"\\nCluster 1:\", cluster_1)\n",
        "print(\"Cluster 2:\", cluster_2)\n"
      ],
      "metadata": {
        "colab": {
          "base_uri": "https://localhost:8080/"
        },
        "id": "LL74_kENzLR5",
        "outputId": "fcbac78c-436c-47ac-d15c-5332218c6e63"
      },
      "execution_count": 41,
      "outputs": [
        {
          "output_type": "stream",
          "name": "stdout",
          "text": [
            "\n",
            "Cluster 1: ['king', 'queen', 'man', 'woman', 'apple', 'orange']\n",
            "Cluster 2: ['breakfast', 'dinner']\n"
          ]
        },
        {
          "output_type": "stream",
          "name": "stderr",
          "text": [
            "/usr/local/lib/python3.10/dist-packages/sklearn/cluster/_kmeans.py:870: FutureWarning: The default value of `n_init` will change from 10 to 'auto' in 1.4. Set the value of `n_init` explicitly to suppress the warning\n",
            "  warnings.warn(\n"
          ]
        }
      ]
    },
    {
      "cell_type": "markdown",
      "source": [
        "# Sentiment Analysis Problem"
      ],
      "metadata": {
        "id": "2ppi25kL8X0-"
      }
    },
    {
      "cell_type": "code",
      "source": [
        "from google.colab import drive\n",
        "drive.mount('/content/drive')"
      ],
      "metadata": {
        "colab": {
          "base_uri": "https://localhost:8080/"
        },
        "id": "FB0lBGkQ828X",
        "outputId": "a2e0e375-9f61-466b-a352-f86e67efb4e9"
      },
      "execution_count": 44,
      "outputs": [
        {
          "output_type": "stream",
          "name": "stdout",
          "text": [
            "Drive already mounted at /content/drive; to attempt to forcibly remount, call drive.mount(\"/content/drive\", force_remount=True).\n"
          ]
        }
      ]
    },
    {
      "cell_type": "code",
      "source": [
        "import pandas as pd\n",
        "from sklearn.model_selection import train_test_split\n",
        "\n",
        "train_dataset = pd.read_csv('/content/drive/MyDrive/train.csv', encoding='latin-1')\n",
        "test_dataset = pd.read_csv('/content/drive/MyDrive/test.csv', encoding='latin-1')\n"
      ],
      "metadata": {
        "id": "4ROAIYAK8dJT"
      },
      "execution_count": 46,
      "outputs": []
    },
    {
      "cell_type": "code",
      "source": [
        "train_dataset.head()"
      ],
      "metadata": {
        "colab": {
          "base_uri": "https://localhost:8080/",
          "height": 310
        },
        "id": "oNh6cILV9WMm",
        "outputId": "0a7eaa41-ee02-4357-b419-94bb85e17d27"
      },
      "execution_count": 48,
      "outputs": [
        {
          "output_type": "execute_result",
          "data": {
            "text/plain": [
              "       textID                                               text  \\\n",
              "0  cb774db0d1                I`d have responded, if I were going   \n",
              "1  549e992a42      Sooo SAD I will miss you here in San Diego!!!   \n",
              "2  088c60f138                          my boss is bullying me...   \n",
              "3  9642c003ef                     what interview! leave me alone   \n",
              "4  358bd9e861   Sons of ****, why couldn`t they put them on t...   \n",
              "\n",
              "                         selected_text sentiment Time of Tweet Age of User  \\\n",
              "0  I`d have responded, if I were going   neutral       morning        0-20   \n",
              "1                             Sooo SAD  negative          noon       21-30   \n",
              "2                          bullying me  negative         night       31-45   \n",
              "3                       leave me alone  negative       morning       46-60   \n",
              "4                        Sons of ****,  negative          noon       60-70   \n",
              "\n",
              "       Country  Population -2020  Land Area (Km²)  Density (P/Km²)  \n",
              "0  Afghanistan          38928346         652860.0               60  \n",
              "1      Albania           2877797          27400.0              105  \n",
              "2      Algeria          43851044        2381740.0               18  \n",
              "3      Andorra             77265            470.0              164  \n",
              "4       Angola          32866272        1246700.0               26  "
            ],
            "text/html": [
              "\n",
              "  <div id=\"df-ed69c3ee-cadc-438f-9818-1c6998f028de\" class=\"colab-df-container\">\n",
              "    <div>\n",
              "<style scoped>\n",
              "    .dataframe tbody tr th:only-of-type {\n",
              "        vertical-align: middle;\n",
              "    }\n",
              "\n",
              "    .dataframe tbody tr th {\n",
              "        vertical-align: top;\n",
              "    }\n",
              "\n",
              "    .dataframe thead th {\n",
              "        text-align: right;\n",
              "    }\n",
              "</style>\n",
              "<table border=\"1\" class=\"dataframe\">\n",
              "  <thead>\n",
              "    <tr style=\"text-align: right;\">\n",
              "      <th></th>\n",
              "      <th>textID</th>\n",
              "      <th>text</th>\n",
              "      <th>selected_text</th>\n",
              "      <th>sentiment</th>\n",
              "      <th>Time of Tweet</th>\n",
              "      <th>Age of User</th>\n",
              "      <th>Country</th>\n",
              "      <th>Population -2020</th>\n",
              "      <th>Land Area (Km²)</th>\n",
              "      <th>Density (P/Km²)</th>\n",
              "    </tr>\n",
              "  </thead>\n",
              "  <tbody>\n",
              "    <tr>\n",
              "      <th>0</th>\n",
              "      <td>cb774db0d1</td>\n",
              "      <td>I`d have responded, if I were going</td>\n",
              "      <td>I`d have responded, if I were going</td>\n",
              "      <td>neutral</td>\n",
              "      <td>morning</td>\n",
              "      <td>0-20</td>\n",
              "      <td>Afghanistan</td>\n",
              "      <td>38928346</td>\n",
              "      <td>652860.0</td>\n",
              "      <td>60</td>\n",
              "    </tr>\n",
              "    <tr>\n",
              "      <th>1</th>\n",
              "      <td>549e992a42</td>\n",
              "      <td>Sooo SAD I will miss you here in San Diego!!!</td>\n",
              "      <td>Sooo SAD</td>\n",
              "      <td>negative</td>\n",
              "      <td>noon</td>\n",
              "      <td>21-30</td>\n",
              "      <td>Albania</td>\n",
              "      <td>2877797</td>\n",
              "      <td>27400.0</td>\n",
              "      <td>105</td>\n",
              "    </tr>\n",
              "    <tr>\n",
              "      <th>2</th>\n",
              "      <td>088c60f138</td>\n",
              "      <td>my boss is bullying me...</td>\n",
              "      <td>bullying me</td>\n",
              "      <td>negative</td>\n",
              "      <td>night</td>\n",
              "      <td>31-45</td>\n",
              "      <td>Algeria</td>\n",
              "      <td>43851044</td>\n",
              "      <td>2381740.0</td>\n",
              "      <td>18</td>\n",
              "    </tr>\n",
              "    <tr>\n",
              "      <th>3</th>\n",
              "      <td>9642c003ef</td>\n",
              "      <td>what interview! leave me alone</td>\n",
              "      <td>leave me alone</td>\n",
              "      <td>negative</td>\n",
              "      <td>morning</td>\n",
              "      <td>46-60</td>\n",
              "      <td>Andorra</td>\n",
              "      <td>77265</td>\n",
              "      <td>470.0</td>\n",
              "      <td>164</td>\n",
              "    </tr>\n",
              "    <tr>\n",
              "      <th>4</th>\n",
              "      <td>358bd9e861</td>\n",
              "      <td>Sons of ****, why couldn`t they put them on t...</td>\n",
              "      <td>Sons of ****,</td>\n",
              "      <td>negative</td>\n",
              "      <td>noon</td>\n",
              "      <td>60-70</td>\n",
              "      <td>Angola</td>\n",
              "      <td>32866272</td>\n",
              "      <td>1246700.0</td>\n",
              "      <td>26</td>\n",
              "    </tr>\n",
              "  </tbody>\n",
              "</table>\n",
              "</div>\n",
              "    <div class=\"colab-df-buttons\">\n",
              "\n",
              "  <div class=\"colab-df-container\">\n",
              "    <button class=\"colab-df-convert\" onclick=\"convertToInteractive('df-ed69c3ee-cadc-438f-9818-1c6998f028de')\"\n",
              "            title=\"Convert this dataframe to an interactive table.\"\n",
              "            style=\"display:none;\">\n",
              "\n",
              "  <svg xmlns=\"http://www.w3.org/2000/svg\" height=\"24px\" viewBox=\"0 -960 960 960\">\n",
              "    <path d=\"M120-120v-720h720v720H120Zm60-500h600v-160H180v160Zm220 220h160v-160H400v160Zm0 220h160v-160H400v160ZM180-400h160v-160H180v160Zm440 0h160v-160H620v160ZM180-180h160v-160H180v160Zm440 0h160v-160H620v160Z\"/>\n",
              "  </svg>\n",
              "    </button>\n",
              "\n",
              "  <style>\n",
              "    .colab-df-container {\n",
              "      display:flex;\n",
              "      gap: 12px;\n",
              "    }\n",
              "\n",
              "    .colab-df-convert {\n",
              "      background-color: #E8F0FE;\n",
              "      border: none;\n",
              "      border-radius: 50%;\n",
              "      cursor: pointer;\n",
              "      display: none;\n",
              "      fill: #1967D2;\n",
              "      height: 32px;\n",
              "      padding: 0 0 0 0;\n",
              "      width: 32px;\n",
              "    }\n",
              "\n",
              "    .colab-df-convert:hover {\n",
              "      background-color: #E2EBFA;\n",
              "      box-shadow: 0px 1px 2px rgba(60, 64, 67, 0.3), 0px 1px 3px 1px rgba(60, 64, 67, 0.15);\n",
              "      fill: #174EA6;\n",
              "    }\n",
              "\n",
              "    .colab-df-buttons div {\n",
              "      margin-bottom: 4px;\n",
              "    }\n",
              "\n",
              "    [theme=dark] .colab-df-convert {\n",
              "      background-color: #3B4455;\n",
              "      fill: #D2E3FC;\n",
              "    }\n",
              "\n",
              "    [theme=dark] .colab-df-convert:hover {\n",
              "      background-color: #434B5C;\n",
              "      box-shadow: 0px 1px 3px 1px rgba(0, 0, 0, 0.15);\n",
              "      filter: drop-shadow(0px 1px 2px rgba(0, 0, 0, 0.3));\n",
              "      fill: #FFFFFF;\n",
              "    }\n",
              "  </style>\n",
              "\n",
              "    <script>\n",
              "      const buttonEl =\n",
              "        document.querySelector('#df-ed69c3ee-cadc-438f-9818-1c6998f028de button.colab-df-convert');\n",
              "      buttonEl.style.display =\n",
              "        google.colab.kernel.accessAllowed ? 'block' : 'none';\n",
              "\n",
              "      async function convertToInteractive(key) {\n",
              "        const element = document.querySelector('#df-ed69c3ee-cadc-438f-9818-1c6998f028de');\n",
              "        const dataTable =\n",
              "          await google.colab.kernel.invokeFunction('convertToInteractive',\n",
              "                                                    [key], {});\n",
              "        if (!dataTable) return;\n",
              "\n",
              "        const docLinkHtml = 'Like what you see? Visit the ' +\n",
              "          '<a target=\"_blank\" href=https://colab.research.google.com/notebooks/data_table.ipynb>data table notebook</a>'\n",
              "          + ' to learn more about interactive tables.';\n",
              "        element.innerHTML = '';\n",
              "        dataTable['output_type'] = 'display_data';\n",
              "        await google.colab.output.renderOutput(dataTable, element);\n",
              "        const docLink = document.createElement('div');\n",
              "        docLink.innerHTML = docLinkHtml;\n",
              "        element.appendChild(docLink);\n",
              "      }\n",
              "    </script>\n",
              "  </div>\n",
              "\n",
              "\n",
              "<div id=\"df-58b9dfa3-3438-4cf9-b734-98f55d2b1e85\">\n",
              "  <button class=\"colab-df-quickchart\" onclick=\"quickchart('df-58b9dfa3-3438-4cf9-b734-98f55d2b1e85')\"\n",
              "            title=\"Suggest charts\"\n",
              "            style=\"display:none;\">\n",
              "\n",
              "<svg xmlns=\"http://www.w3.org/2000/svg\" height=\"24px\"viewBox=\"0 0 24 24\"\n",
              "     width=\"24px\">\n",
              "    <g>\n",
              "        <path d=\"M19 3H5c-1.1 0-2 .9-2 2v14c0 1.1.9 2 2 2h14c1.1 0 2-.9 2-2V5c0-1.1-.9-2-2-2zM9 17H7v-7h2v7zm4 0h-2V7h2v10zm4 0h-2v-4h2v4z\"/>\n",
              "    </g>\n",
              "</svg>\n",
              "  </button>\n",
              "\n",
              "<style>\n",
              "  .colab-df-quickchart {\n",
              "      --bg-color: #E8F0FE;\n",
              "      --fill-color: #1967D2;\n",
              "      --hover-bg-color: #E2EBFA;\n",
              "      --hover-fill-color: #174EA6;\n",
              "      --disabled-fill-color: #AAA;\n",
              "      --disabled-bg-color: #DDD;\n",
              "  }\n",
              "\n",
              "  [theme=dark] .colab-df-quickchart {\n",
              "      --bg-color: #3B4455;\n",
              "      --fill-color: #D2E3FC;\n",
              "      --hover-bg-color: #434B5C;\n",
              "      --hover-fill-color: #FFFFFF;\n",
              "      --disabled-bg-color: #3B4455;\n",
              "      --disabled-fill-color: #666;\n",
              "  }\n",
              "\n",
              "  .colab-df-quickchart {\n",
              "    background-color: var(--bg-color);\n",
              "    border: none;\n",
              "    border-radius: 50%;\n",
              "    cursor: pointer;\n",
              "    display: none;\n",
              "    fill: var(--fill-color);\n",
              "    height: 32px;\n",
              "    padding: 0;\n",
              "    width: 32px;\n",
              "  }\n",
              "\n",
              "  .colab-df-quickchart:hover {\n",
              "    background-color: var(--hover-bg-color);\n",
              "    box-shadow: 0 1px 2px rgba(60, 64, 67, 0.3), 0 1px 3px 1px rgba(60, 64, 67, 0.15);\n",
              "    fill: var(--button-hover-fill-color);\n",
              "  }\n",
              "\n",
              "  .colab-df-quickchart-complete:disabled,\n",
              "  .colab-df-quickchart-complete:disabled:hover {\n",
              "    background-color: var(--disabled-bg-color);\n",
              "    fill: var(--disabled-fill-color);\n",
              "    box-shadow: none;\n",
              "  }\n",
              "\n",
              "  .colab-df-spinner {\n",
              "    border: 2px solid var(--fill-color);\n",
              "    border-color: transparent;\n",
              "    border-bottom-color: var(--fill-color);\n",
              "    animation:\n",
              "      spin 1s steps(1) infinite;\n",
              "  }\n",
              "\n",
              "  @keyframes spin {\n",
              "    0% {\n",
              "      border-color: transparent;\n",
              "      border-bottom-color: var(--fill-color);\n",
              "      border-left-color: var(--fill-color);\n",
              "    }\n",
              "    20% {\n",
              "      border-color: transparent;\n",
              "      border-left-color: var(--fill-color);\n",
              "      border-top-color: var(--fill-color);\n",
              "    }\n",
              "    30% {\n",
              "      border-color: transparent;\n",
              "      border-left-color: var(--fill-color);\n",
              "      border-top-color: var(--fill-color);\n",
              "      border-right-color: var(--fill-color);\n",
              "    }\n",
              "    40% {\n",
              "      border-color: transparent;\n",
              "      border-right-color: var(--fill-color);\n",
              "      border-top-color: var(--fill-color);\n",
              "    }\n",
              "    60% {\n",
              "      border-color: transparent;\n",
              "      border-right-color: var(--fill-color);\n",
              "    }\n",
              "    80% {\n",
              "      border-color: transparent;\n",
              "      border-right-color: var(--fill-color);\n",
              "      border-bottom-color: var(--fill-color);\n",
              "    }\n",
              "    90% {\n",
              "      border-color: transparent;\n",
              "      border-bottom-color: var(--fill-color);\n",
              "    }\n",
              "  }\n",
              "</style>\n",
              "\n",
              "  <script>\n",
              "    async function quickchart(key) {\n",
              "      const quickchartButtonEl =\n",
              "        document.querySelector('#' + key + ' button');\n",
              "      quickchartButtonEl.disabled = true;  // To prevent multiple clicks.\n",
              "      quickchartButtonEl.classList.add('colab-df-spinner');\n",
              "      try {\n",
              "        const charts = await google.colab.kernel.invokeFunction(\n",
              "            'suggestCharts', [key], {});\n",
              "      } catch (error) {\n",
              "        console.error('Error during call to suggestCharts:', error);\n",
              "      }\n",
              "      quickchartButtonEl.classList.remove('colab-df-spinner');\n",
              "      quickchartButtonEl.classList.add('colab-df-quickchart-complete');\n",
              "    }\n",
              "    (() => {\n",
              "      let quickchartButtonEl =\n",
              "        document.querySelector('#df-58b9dfa3-3438-4cf9-b734-98f55d2b1e85 button');\n",
              "      quickchartButtonEl.style.display =\n",
              "        google.colab.kernel.accessAllowed ? 'block' : 'none';\n",
              "    })();\n",
              "  </script>\n",
              "</div>\n",
              "\n",
              "    </div>\n",
              "  </div>\n"
            ],
            "application/vnd.google.colaboratory.intrinsic+json": {
              "type": "dataframe",
              "variable_name": "train_dataset",
              "summary": "{\n  \"name\": \"train_dataset\",\n  \"rows\": 27481,\n  \"fields\": [\n    {\n      \"column\": \"textID\",\n      \"properties\": {\n        \"dtype\": \"string\",\n        \"num_unique_values\": 27481,\n        \"samples\": [\n          \"a7f72a928a\",\n          \"ef42dee96c\",\n          \"07d17131b1\"\n        ],\n        \"semantic_type\": \"\",\n        \"description\": \"\"\n      }\n    },\n    {\n      \"column\": \"text\",\n      \"properties\": {\n        \"dtype\": \"string\",\n        \"num_unique_values\": 27480,\n        \"samples\": [\n          \" Enjoy! Family trumps everything\",\n          \" --of them kinda turns me off of it all.  And then I buy more of them and dig a deeper hole, etc. ;;\",\n          \"Clive it`s my birthday pat me  http://apps.facebook.com/dogbook/profile/view/6386106\"\n        ],\n        \"semantic_type\": \"\",\n        \"description\": \"\"\n      }\n    },\n    {\n      \"column\": \"selected_text\",\n      \"properties\": {\n        \"dtype\": \"string\",\n        \"num_unique_values\": 22430,\n        \"samples\": [\n          \"that is why I drive a (teeny tiny) honda civic\",\n          \"Sorry...but, I bet they aren`t that bad...\",\n          \"yummy\"\n        ],\n        \"semantic_type\": \"\",\n        \"description\": \"\"\n      }\n    },\n    {\n      \"column\": \"sentiment\",\n      \"properties\": {\n        \"dtype\": \"category\",\n        \"num_unique_values\": 3,\n        \"samples\": [\n          \"neutral\",\n          \"negative\",\n          \"positive\"\n        ],\n        \"semantic_type\": \"\",\n        \"description\": \"\"\n      }\n    },\n    {\n      \"column\": \"Time of Tweet\",\n      \"properties\": {\n        \"dtype\": \"category\",\n        \"num_unique_values\": 3,\n        \"samples\": [\n          \"morning\",\n          \"noon\",\n          \"night\"\n        ],\n        \"semantic_type\": \"\",\n        \"description\": \"\"\n      }\n    },\n    {\n      \"column\": \"Age of User\",\n      \"properties\": {\n        \"dtype\": \"category\",\n        \"num_unique_values\": 6,\n        \"samples\": [\n          \"0-20\",\n          \"21-30\",\n          \"70-100\"\n        ],\n        \"semantic_type\": \"\",\n        \"description\": \"\"\n      }\n    },\n    {\n      \"column\": \"Country\",\n      \"properties\": {\n        \"dtype\": \"category\",\n        \"num_unique_values\": 195,\n        \"samples\": [\n          \"Philippines\",\n          \"Belgium\",\n          \"Sierra Leone\"\n        ],\n        \"semantic_type\": \"\",\n        \"description\": \"\"\n      }\n    },\n    {\n      \"column\": \"Population -2020\",\n      \"properties\": {\n        \"dtype\": \"number\",\n        \"std\": 150494590,\n        \"min\": 801,\n        \"max\": 1439323776,\n        \"num_unique_values\": 195,\n        \"samples\": [\n          109581078,\n          11589623,\n          7976983\n        ],\n        \"semantic_type\": \"\",\n        \"description\": \"\"\n      }\n    },\n    {\n      \"column\": \"Land Area (Km\\u00b2)\",\n      \"properties\": {\n        \"dtype\": \"number\",\n        \"std\": 1807424.6900064738,\n        \"min\": 0.0,\n        \"max\": 16376870.0,\n        \"num_unique_values\": 193,\n        \"samples\": [\n          2267050.0,\n          1280000.0,\n          100250.0\n        ],\n        \"semantic_type\": \"\",\n        \"description\": \"\"\n      }\n    },\n    {\n      \"column\": \"Density (P/Km\\u00b2)\",\n      \"properties\": {\n        \"dtype\": \"number\",\n        \"std\": 2013,\n        \"min\": 2,\n        \"max\": 26337,\n        \"num_unique_values\": 136,\n        \"samples\": [\n          400,\n          71,\n          331\n        ],\n        \"semantic_type\": \"\",\n        \"description\": \"\"\n      }\n    }\n  ]\n}"
            }
          },
          "metadata": {},
          "execution_count": 48
        }
      ]
    },
    {
      "cell_type": "code",
      "source": [],
      "metadata": {
        "id": "eVE4S5Fx9pqn"
      },
      "execution_count": null,
      "outputs": []
    }
  ]
}